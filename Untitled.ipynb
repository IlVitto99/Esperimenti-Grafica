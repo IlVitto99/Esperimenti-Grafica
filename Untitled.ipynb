{
 "cells": [
  {
   "cell_type": "code",
   "execution_count": 21,
   "metadata": {},
   "outputs": [],
   "source": [
    "import numpy as np\n",
    "from random import random\n",
    "\n",
    "class layer():\n",
    "    def __init__(self, nValore, nValorePre):\n",
    "        self.valori = np.zeros((nValore,), dtype = float) #crea un arry di grandezza nValore pieno di zeri\n",
    "        if nValorePre != 0:\n",
    "            self.bies = np.random.uniform(-10,10,(nValore,)) #crea un arry di grandezza nValore pieno di valori randomici\n",
    "            self.pesi = np.random.uniform(-10,10,(nValorePre, nValore))\n",
    "            \n",
    "class nn():\n",
    "    def __init__(self,lista):\n",
    "        self.layers = []\n",
    "        self.layers.append(layer(lista[0], 0))\n",
    "        for k,i in enumerate(lista):\n",
    "            if k != 0:\n",
    "                self.layers.append(layer(lista[k], lista[k-1]))\n",
    "                \n",
    "    def feedforward(self,inputs):\n",
    "        if inputs.size == self.layers[0].valori.size:\n",
    "            self.layers[0].valori = inputs #nelle primo layer iserisce gli input\n",
    "            for k, i in enumerate(self.layers):       \n",
    "                if k != 0:\n",
    "                    valorePrecdenti = self.layers[k-1].valori\n",
    "                    pesiAttuali = self.layers[k].pesi\n",
    "                    biesAttuali = self.layers[k].bies\n",
    "                    self.layers[k].valori = np.tanh(valorePrecdenti.dot(pesiAttuali) + biesAttuali) #calcola i volori delle layer \n",
    "        \n",
    "            return self.layers[-1].valori"
   ]
  },
  {
   "cell_type": "code",
   "execution_count": 56,
   "metadata": {},
   "outputs": [],
   "source": [
    "a = nn([3, 5, 5, 2])"
   ]
  },
  {
   "cell_type": "code",
   "execution_count": 57,
   "metadata": {},
   "outputs": [],
   "source": [
    "b = np.random.uniform(-10,10,(3,))"
   ]
  },
  {
   "cell_type": "code",
   "execution_count": 58,
   "metadata": {},
   "outputs": [
    {
     "data": {
      "text/plain": [
       "array([-8.39927174,  3.6964589 ,  2.40480823])"
      ]
     },
     "execution_count": 58,
     "metadata": {},
     "output_type": "execute_result"
    }
   ],
   "source": [
    "b"
   ]
  },
  {
   "cell_type": "code",
   "execution_count": 60,
   "metadata": {},
   "outputs": [
    {
     "data": {
      "text/plain": [
       "array([ 0.99943548, -0.99976046])"
      ]
     },
     "execution_count": 60,
     "metadata": {},
     "output_type": "execute_result"
    }
   ],
   "source": [
    "a.feedforward(b)"
   ]
  },
  {
   "cell_type": "code",
   "execution_count": 54,
   "metadata": {},
   "outputs": [
    {
     "data": {
      "text/plain": [
       "array([[ 5.10677136,  3.96546769, -4.63052226,  9.61879177, -4.87174302,\n",
       "         1.83628299],\n",
       "       [-0.24784871, -1.76603511, -8.96771589,  2.54983242,  3.72250261,\n",
       "         2.56460021],\n",
       "       [-5.96260178, -9.86064707, -0.77462625, -0.76542329, -5.1983581 ,\n",
       "         1.60135806]])"
      ]
     },
     "execution_count": 54,
     "metadata": {},
     "output_type": "execute_result"
    }
   ],
   "source": [
    "m"
   ]
  },
  {
   "cell_type": "code",
   "execution_count": 55,
   "metadata": {},
   "outputs": [
    {
     "data": {
      "text/plain": [
       "array([-35.79115743, -30.07051649,  27.46703581, -62.89684846,\n",
       "        31.51731366, -10.76067522])"
      ]
     },
     "execution_count": 55,
     "metadata": {},
     "output_type": "execute_result"
    }
   ],
   "source": [
    "b.dot(m)"
   ]
  },
  {
   "cell_type": "code",
   "execution_count": null,
   "metadata": {},
   "outputs": [],
   "source": []
  }
 ],
 "metadata": {
  "kernelspec": {
   "display_name": "Python 3",
   "language": "python",
   "name": "python3"
  },
  "language_info": {
   "codemirror_mode": {
    "name": "ipython",
    "version": 3
   },
   "file_extension": ".py",
   "mimetype": "text/x-python",
   "name": "python",
   "nbconvert_exporter": "python",
   "pygments_lexer": "ipython3",
   "version": "3.6.5"
  }
 },
 "nbformat": 4,
 "nbformat_minor": 2
}
