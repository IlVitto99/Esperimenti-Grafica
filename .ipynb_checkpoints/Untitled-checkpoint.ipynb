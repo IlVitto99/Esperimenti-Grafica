{
 "cells": [
  {
   "cell_type": "code",
   "execution_count": 21,
   "metadata": {},
   "outputs": [],
   "source": [
    "import numpy as np\n",
    "from random import random\n",
    "\n",
    "class layer():\n",
    "    def __init__(self, nValore, nValorePre):\n",
    "        self.valori = np.zeros((nValore,), dtype = float) #crea un arry di grandezza nValore pieno di zeri\n",
    "        if nValorePre != 0:\n",
    "            self.bies = np.random.uniform(-10,10,(nValore,)) #crea un arry di grandezza nValore pieno di valori randomici\n",
    "            self.pesi = np.random.uniform(-10,10,(nValorePre, nValore))\n",
    "            \n",
    "class nn():\n",
    "    def __init__(self,lista):\n",
    "        self.layers = []\n",
    "        self.layers.append(layer(lista[0], 0))\n",
    "        for k,i in enumerate(lista):\n",
    "            if k != 0:\n",
    "                self.layers.append(layer(lista[k], lista[k-1]))\n",
    "                \n",
    "    def feedforward(self,inputs):\n",
    "        if inputs.size == self.layers[0].valori.size:\n",
    "            self.layers[0].valori = inputs #nelle primo layer iserisce gli input\n",
    "            for k, i in enumerate(self.layers):       \n",
    "                if k != 0:\n",
    "                    valorePrecdenti = self.layers[k-1].valori\n",
    "                    pesiAttuali = self.layers[k].pesi\n",
    "                    biesAttuali = self.layers[k].bies\n",
    "                    self.layers[k].valori = np.tanh(valorePrecdenti.dot(pesiAttuali) + biesAttuali) #calcola i volori delle layer \n",
    "        \n",
    "            return self.layers[-1].valori"
   ]
  },
  {
   "cell_type": "code",
   "execution_count": 27,
   "metadata": {},
   "outputs": [],
   "source": [
    "a = nn([3, 5, 5, 2])"
   ]
  },
  {
   "cell_type": "code",
   "execution_count": 28,
   "metadata": {},
   "outputs": [],
   "source": [
    "b = np.random.uniform(-10,10,(3,))"
   ]
  },
  {
   "cell_type": "code",
   "execution_count": 24,
   "metadata": {},
   "outputs": [
    {
     "data": {
      "text/plain": [
       "array([0.49598448, 0.71706536, 0.06437544])"
      ]
     },
     "execution_count": 24,
     "metadata": {},
     "output_type": "execute_result"
    }
   ],
   "source": [
    "b"
   ]
  },
  {
   "cell_type": "code",
   "execution_count": 26,
   "metadata": {},
   "outputs": [
    {
     "data": {
      "text/plain": [
       "array([0.99335199, 1.        ])"
      ]
     },
     "execution_count": 26,
     "metadata": {},
     "output_type": "execute_result"
    }
   ],
   "source": [
    "a.feedforward(b)"
   ]
  },
  {
   "cell_type": "code",
   "execution_count": null,
   "metadata": {},
   "outputs": [],
   "source": []
  }
 ],
 "metadata": {
  "kernelspec": {
   "display_name": "Python 3",
   "language": "python",
   "name": "python3"
  },
  "language_info": {
   "codemirror_mode": {
    "name": "ipython",
    "version": 3
   },
   "file_extension": ".py",
   "mimetype": "text/x-python",
   "name": "python",
   "nbconvert_exporter": "python",
   "pygments_lexer": "ipython3",
   "version": "3.6.5"
  }
 },
 "nbformat": 4,
 "nbformat_minor": 2
}
